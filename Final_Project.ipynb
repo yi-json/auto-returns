{
 "cells": [
  {
   "cell_type": "markdown",
   "metadata": {
    "id": "Bt6DxcKGY-Y-"
   },
   "source": [
    "## Setup & Data Loading"
   ]
  },
  {
   "cell_type": "code",
   "execution_count": 7,
   "metadata": {
    "colab": {
     "base_uri": "https://localhost:8080/"
    },
    "id": "lnN3JWSibj5w",
    "outputId": "65af8086-fee2-4dca-b8a9-775dc5f32e04"
   },
   "outputs": [
    {
     "name": "stdout",
     "output_type": "stream",
     "text": [
      "Requirement already satisfied: yfinance in /opt/anaconda3/lib/python3.12/site-packages (0.2.55)\n",
      "Requirement already satisfied: pandas>=1.3.0 in /opt/anaconda3/lib/python3.12/site-packages (from yfinance) (2.2.2)\n",
      "Requirement already satisfied: numpy>=1.16.5 in /opt/anaconda3/lib/python3.12/site-packages (from yfinance) (1.26.4)\n",
      "Requirement already satisfied: requests>=2.31 in /opt/anaconda3/lib/python3.12/site-packages (from yfinance) (2.32.3)\n",
      "Requirement already satisfied: multitasking>=0.0.7 in /opt/anaconda3/lib/python3.12/site-packages (from yfinance) (0.0.11)\n",
      "Requirement already satisfied: platformdirs>=2.0.0 in /opt/anaconda3/lib/python3.12/site-packages (from yfinance) (3.10.0)\n",
      "Requirement already satisfied: pytz>=2022.5 in /opt/anaconda3/lib/python3.12/site-packages (from yfinance) (2024.1)\n",
      "Requirement already satisfied: frozendict>=2.3.4 in /opt/anaconda3/lib/python3.12/site-packages (from yfinance) (2.4.2)\n",
      "Requirement already satisfied: peewee>=3.16.2 in /opt/anaconda3/lib/python3.12/site-packages (from yfinance) (3.17.9)\n",
      "Requirement already satisfied: beautifulsoup4>=4.11.1 in /opt/anaconda3/lib/python3.12/site-packages (from yfinance) (4.12.3)\n",
      "Requirement already satisfied: soupsieve>1.2 in /opt/anaconda3/lib/python3.12/site-packages (from beautifulsoup4>=4.11.1->yfinance) (2.5)\n",
      "Requirement already satisfied: python-dateutil>=2.8.2 in /opt/anaconda3/lib/python3.12/site-packages (from pandas>=1.3.0->yfinance) (2.9.0.post0)\n",
      "Requirement already satisfied: tzdata>=2022.7 in /opt/anaconda3/lib/python3.12/site-packages (from pandas>=1.3.0->yfinance) (2023.3)\n",
      "Requirement already satisfied: charset-normalizer<4,>=2 in /opt/anaconda3/lib/python3.12/site-packages (from requests>=2.31->yfinance) (3.3.2)\n",
      "Requirement already satisfied: idna<4,>=2.5 in /opt/anaconda3/lib/python3.12/site-packages (from requests>=2.31->yfinance) (3.7)\n",
      "Requirement already satisfied: urllib3<3,>=1.21.1 in /opt/anaconda3/lib/python3.12/site-packages (from requests>=2.31->yfinance) (2.2.3)\n",
      "Requirement already satisfied: certifi>=2017.4.17 in /opt/anaconda3/lib/python3.12/site-packages (from requests>=2.31->yfinance) (2025.1.31)\n",
      "Requirement already satisfied: six>=1.5 in /opt/anaconda3/lib/python3.12/site-packages (from python-dateutil>=2.8.2->pandas>=1.3.0->yfinance) (1.16.0)\n",
      "Requirement already satisfied: torch in /opt/anaconda3/lib/python3.12/site-packages (2.6.0)\n",
      "Requirement already satisfied: torchvision in /opt/anaconda3/lib/python3.12/site-packages (0.21.0)\n",
      "Requirement already satisfied: torchaudio in /opt/anaconda3/lib/python3.12/site-packages (2.6.0)\n",
      "Requirement already satisfied: filelock in /opt/anaconda3/lib/python3.12/site-packages (from torch) (3.13.1)\n",
      "Requirement already satisfied: typing-extensions>=4.10.0 in /opt/anaconda3/lib/python3.12/site-packages (from torch) (4.11.0)\n",
      "Requirement already satisfied: networkx in /opt/anaconda3/lib/python3.12/site-packages (from torch) (3.3)\n",
      "Requirement already satisfied: jinja2 in /opt/anaconda3/lib/python3.12/site-packages (from torch) (3.1.4)\n",
      "Requirement already satisfied: fsspec in /opt/anaconda3/lib/python3.12/site-packages (from torch) (2024.6.1)\n",
      "Requirement already satisfied: setuptools in /opt/anaconda3/lib/python3.12/site-packages (from torch) (75.1.0)\n",
      "Requirement already satisfied: sympy==1.13.1 in /opt/anaconda3/lib/python3.12/site-packages (from torch) (1.13.1)\n",
      "Requirement already satisfied: mpmath<1.4,>=1.1.0 in /opt/anaconda3/lib/python3.12/site-packages (from sympy==1.13.1->torch) (1.3.0)\n",
      "Requirement already satisfied: numpy in /opt/anaconda3/lib/python3.12/site-packages (from torchvision) (1.26.4)\n",
      "Requirement already satisfied: pillow!=8.3.*,>=5.3.0 in /opt/anaconda3/lib/python3.12/site-packages (from torchvision) (10.4.0)\n",
      "Requirement already satisfied: MarkupSafe>=2.0 in /opt/anaconda3/lib/python3.12/site-packages (from jinja2->torch) (2.1.3)\n"
     ]
    }
   ],
   "source": [
    "!pip install yfinance;\n",
    "!pip install torch torchvision torchaudio;"
   ]
  },
  {
   "cell_type": "code",
   "execution_count": 91,
   "metadata": {
    "id": "U3zqJUuwFMNk"
   },
   "outputs": [],
   "source": [
    "import pandas as pd\n",
    "import numpy as np\n",
    "import matplotlib.pyplot as plt\n",
    "import seaborn as sns\n",
    "\n",
    "# scikit-learn\n",
    "from sklearn.preprocessing import StandardScaler\n",
    "from sklearn.decomposition import PCA, KernelPCA\n",
    "from sklearn.ensemble import IsolationForest\n",
    "from sklearn.cluster import KMeans\n",
    "from sklearn.linear_model import LinearRegression\n",
    "from sklearn.metrics import r2_score\n",
    "from sklearn.metrics import mean_squared_error\n",
    "\n",
    "\n",
    "# PyTorch\n",
    "import torch\n",
    "import torch.nn as nn\n",
    "import torch.optim as optim\n",
    "from torch.utils.data import DataLoader, TensorDataset\n",
    "\n",
    "import yfinance as yf"
   ]
  },
  {
   "cell_type": "code",
   "execution_count": 11,
   "metadata": {
    "id": "RKEq9c68ZQAL"
   },
   "outputs": [],
   "source": [
    "# s&p500 and individual tech stocks\n",
    "symbols = [\n",
    "    '^GSPC',\n",
    "    'META',\n",
    "    'AMZN',\n",
    "    'AAPL',\n",
    "    'NFLX',\n",
    "    'GOOG',\n",
    "    'MSFT',\n",
    "    'NVDA',\n",
    "    'TSLA'\n",
    "]\n",
    "# 13 year range\n",
    "start_date = \"2012-01-01\"\n",
    "end_date = \"2025-04-09\""
   ]
  },
  {
   "cell_type": "code",
   "execution_count": 13,
   "metadata": {
    "colab": {
     "base_uri": "https://localhost:8080/",
     "height": 417
    },
    "id": "SqiZ0NKEcrbZ",
    "outputId": "0dd308d0-8135-4109-cfca-5f430bcac9fc"
   },
   "outputs": [
    {
     "name": "stderr",
     "output_type": "stream",
     "text": [
      "[*********************100%***********************]  9 of 9 completed\n"
     ]
    },
    {
     "data": {
      "text/html": [
       "<div>\n",
       "<style scoped>\n",
       "    .dataframe tbody tr th:only-of-type {\n",
       "        vertical-align: middle;\n",
       "    }\n",
       "\n",
       "    .dataframe tbody tr th {\n",
       "        vertical-align: top;\n",
       "    }\n",
       "\n",
       "    .dataframe thead tr th {\n",
       "        text-align: left;\n",
       "    }\n",
       "\n",
       "    .dataframe thead tr:last-of-type th {\n",
       "        text-align: right;\n",
       "    }\n",
       "</style>\n",
       "<table border=\"1\" class=\"dataframe\">\n",
       "  <thead>\n",
       "    <tr>\n",
       "      <th>Price</th>\n",
       "      <th colspan=\"9\" halign=\"left\">Close</th>\n",
       "      <th>High</th>\n",
       "      <th>...</th>\n",
       "      <th>Open</th>\n",
       "      <th colspan=\"9\" halign=\"left\">Volume</th>\n",
       "    </tr>\n",
       "    <tr>\n",
       "      <th>Ticker</th>\n",
       "      <th>AAPL</th>\n",
       "      <th>AMZN</th>\n",
       "      <th>GOOG</th>\n",
       "      <th>META</th>\n",
       "      <th>MSFT</th>\n",
       "      <th>NFLX</th>\n",
       "      <th>NVDA</th>\n",
       "      <th>TSLA</th>\n",
       "      <th>^GSPC</th>\n",
       "      <th>AAPL</th>\n",
       "      <th>...</th>\n",
       "      <th>^GSPC</th>\n",
       "      <th>AAPL</th>\n",
       "      <th>AMZN</th>\n",
       "      <th>GOOG</th>\n",
       "      <th>META</th>\n",
       "      <th>MSFT</th>\n",
       "      <th>NFLX</th>\n",
       "      <th>NVDA</th>\n",
       "      <th>TSLA</th>\n",
       "      <th>^GSPC</th>\n",
       "    </tr>\n",
       "    <tr>\n",
       "      <th>Date</th>\n",
       "      <th></th>\n",
       "      <th></th>\n",
       "      <th></th>\n",
       "      <th></th>\n",
       "      <th></th>\n",
       "      <th></th>\n",
       "      <th></th>\n",
       "      <th></th>\n",
       "      <th></th>\n",
       "      <th></th>\n",
       "      <th></th>\n",
       "      <th></th>\n",
       "      <th></th>\n",
       "      <th></th>\n",
       "      <th></th>\n",
       "      <th></th>\n",
       "      <th></th>\n",
       "      <th></th>\n",
       "      <th></th>\n",
       "      <th></th>\n",
       "      <th></th>\n",
       "    </tr>\n",
       "  </thead>\n",
       "  <tbody>\n",
       "    <tr>\n",
       "      <th>2012-01-03</th>\n",
       "      <td>12.375390</td>\n",
       "      <td>8.9515</td>\n",
       "      <td>16.495001</td>\n",
       "      <td>NaN</td>\n",
       "      <td>21.077829</td>\n",
       "      <td>10.320000</td>\n",
       "      <td>0.321867</td>\n",
       "      <td>1.872000</td>\n",
       "      <td>1277.060059</td>\n",
       "      <td>12.413609</td>\n",
       "      <td>...</td>\n",
       "      <td>1258.859985</td>\n",
       "      <td>302220800</td>\n",
       "      <td>102216000</td>\n",
       "      <td>147611217</td>\n",
       "      <td>NaN</td>\n",
       "      <td>64731500</td>\n",
       "      <td>29213800</td>\n",
       "      <td>468044000</td>\n",
       "      <td>13921500</td>\n",
       "      <td>3943710000</td>\n",
       "    </tr>\n",
       "    <tr>\n",
       "      <th>2012-01-04</th>\n",
       "      <td>12.441895</td>\n",
       "      <td>8.8755</td>\n",
       "      <td>16.566147</td>\n",
       "      <td>NaN</td>\n",
       "      <td>21.573877</td>\n",
       "      <td>11.492857</td>\n",
       "      <td>0.325535</td>\n",
       "      <td>1.847333</td>\n",
       "      <td>1277.300049</td>\n",
       "      <td>12.479212</td>\n",
       "      <td>...</td>\n",
       "      <td>1277.030029</td>\n",
       "      <td>260022000</td>\n",
       "      <td>84104000</td>\n",
       "      <td>114989399</td>\n",
       "      <td>NaN</td>\n",
       "      <td>80516100</td>\n",
       "      <td>100489900</td>\n",
       "      <td>347372000</td>\n",
       "      <td>9451500</td>\n",
       "      <td>3592580000</td>\n",
       "    </tr>\n",
       "    <tr>\n",
       "      <th>2012-01-05</th>\n",
       "      <td>12.580028</td>\n",
       "      <td>8.8805</td>\n",
       "      <td>16.336349</td>\n",
       "      <td>NaN</td>\n",
       "      <td>21.794336</td>\n",
       "      <td>11.328571</td>\n",
       "      <td>0.337227</td>\n",
       "      <td>1.808000</td>\n",
       "      <td>1281.060059</td>\n",
       "      <td>12.595676</td>\n",
       "      <td>...</td>\n",
       "      <td>1277.300049</td>\n",
       "      <td>271269600</td>\n",
       "      <td>76182000</td>\n",
       "      <td>131808205</td>\n",
       "      <td>NaN</td>\n",
       "      <td>56081400</td>\n",
       "      <td>86552900</td>\n",
       "      <td>563548000</td>\n",
       "      <td>15082500</td>\n",
       "      <td>4315950000</td>\n",
       "    </tr>\n",
       "    <tr>\n",
       "      <th>2012-01-06</th>\n",
       "      <td>12.711535</td>\n",
       "      <td>9.1305</td>\n",
       "      <td>16.113495</td>\n",
       "      <td>NaN</td>\n",
       "      <td>22.132904</td>\n",
       "      <td>12.327143</td>\n",
       "      <td>0.333330</td>\n",
       "      <td>1.794000</td>\n",
       "      <td>1277.810059</td>\n",
       "      <td>12.722068</td>\n",
       "      <td>...</td>\n",
       "      <td>1280.930054</td>\n",
       "      <td>318292800</td>\n",
       "      <td>140168000</td>\n",
       "      <td>108119746</td>\n",
       "      <td>NaN</td>\n",
       "      <td>99455500</td>\n",
       "      <td>125610800</td>\n",
       "      <td>533252000</td>\n",
       "      <td>14794500</td>\n",
       "      <td>3656830000</td>\n",
       "    </tr>\n",
       "    <tr>\n",
       "      <th>2012-01-09</th>\n",
       "      <td>12.691373</td>\n",
       "      <td>8.9280</td>\n",
       "      <td>15.430305</td>\n",
       "      <td>NaN</td>\n",
       "      <td>21.841574</td>\n",
       "      <td>14.025714</td>\n",
       "      <td>0.333330</td>\n",
       "      <td>1.816667</td>\n",
       "      <td>1280.699951</td>\n",
       "      <td>12.872536</td>\n",
       "      <td>...</td>\n",
       "      <td>1277.829956</td>\n",
       "      <td>394024400</td>\n",
       "      <td>101138000</td>\n",
       "      <td>233776981</td>\n",
       "      <td>NaN</td>\n",
       "      <td>59706800</td>\n",
       "      <td>214073300</td>\n",
       "      <td>508244000</td>\n",
       "      <td>13455000</td>\n",
       "      <td>3371600000</td>\n",
       "    </tr>\n",
       "  </tbody>\n",
       "</table>\n",
       "<p>5 rows × 45 columns</p>\n",
       "</div>"
      ],
      "text/plain": [
       "Price           Close                                                          \\\n",
       "Ticker           AAPL    AMZN       GOOG META       MSFT       NFLX      NVDA   \n",
       "Date                                                                            \n",
       "2012-01-03  12.375390  8.9515  16.495001  NaN  21.077829  10.320000  0.321867   \n",
       "2012-01-04  12.441895  8.8755  16.566147  NaN  21.573877  11.492857  0.325535   \n",
       "2012-01-05  12.580028  8.8805  16.336349  NaN  21.794336  11.328571  0.337227   \n",
       "2012-01-06  12.711535  9.1305  16.113495  NaN  22.132904  12.327143  0.333330   \n",
       "2012-01-09  12.691373  8.9280  15.430305  NaN  21.841574  14.025714  0.333330   \n",
       "\n",
       "Price                                   High  ...         Open     Volume  \\\n",
       "Ticker          TSLA        ^GSPC       AAPL  ...        ^GSPC       AAPL   \n",
       "Date                                          ...                           \n",
       "2012-01-03  1.872000  1277.060059  12.413609  ...  1258.859985  302220800   \n",
       "2012-01-04  1.847333  1277.300049  12.479212  ...  1277.030029  260022000   \n",
       "2012-01-05  1.808000  1281.060059  12.595676  ...  1277.300049  271269600   \n",
       "2012-01-06  1.794000  1277.810059  12.722068  ...  1280.930054  318292800   \n",
       "2012-01-09  1.816667  1280.699951  12.872536  ...  1277.829956  394024400   \n",
       "\n",
       "Price                                                                  \\\n",
       "Ticker           AMZN       GOOG META      MSFT       NFLX       NVDA   \n",
       "Date                                                                    \n",
       "2012-01-03  102216000  147611217  NaN  64731500   29213800  468044000   \n",
       "2012-01-04   84104000  114989399  NaN  80516100  100489900  347372000   \n",
       "2012-01-05   76182000  131808205  NaN  56081400   86552900  563548000   \n",
       "2012-01-06  140168000  108119746  NaN  99455500  125610800  533252000   \n",
       "2012-01-09  101138000  233776981  NaN  59706800  214073300  508244000   \n",
       "\n",
       "Price                             \n",
       "Ticker          TSLA       ^GSPC  \n",
       "Date                              \n",
       "2012-01-03  13921500  3943710000  \n",
       "2012-01-04   9451500  3592580000  \n",
       "2012-01-05  15082500  4315950000  \n",
       "2012-01-06  14794500  3656830000  \n",
       "2012-01-09  13455000  3371600000  \n",
       "\n",
       "[5 rows x 45 columns]"
      ]
     },
     "execution_count": 13,
     "metadata": {},
     "output_type": "execute_result"
    }
   ],
   "source": [
    "data = yf.download(symbols, start=start_date, end=end_date, auto_adjust=True)\n",
    "data.head()"
   ]
  },
  {
   "cell_type": "code",
   "execution_count": 15,
   "metadata": {
    "colab": {
     "base_uri": "https://localhost:8080/",
     "height": 450
    },
    "id": "rJtXS_YJe06h",
    "outputId": "ee2503e4-e023-49d3-c19c-4236ffac2763"
   },
   "outputs": [
    {
     "data": {
      "text/html": [
       "<div>\n",
       "<style scoped>\n",
       "    .dataframe tbody tr th:only-of-type {\n",
       "        vertical-align: middle;\n",
       "    }\n",
       "\n",
       "    .dataframe tbody tr th {\n",
       "        vertical-align: top;\n",
       "    }\n",
       "\n",
       "    .dataframe thead th {\n",
       "        text-align: right;\n",
       "    }\n",
       "</style>\n",
       "<table border=\"1\" class=\"dataframe\">\n",
       "  <thead>\n",
       "    <tr style=\"text-align: right;\">\n",
       "      <th>Ticker</th>\n",
       "      <th>AAPL</th>\n",
       "      <th>AMZN</th>\n",
       "      <th>GOOG</th>\n",
       "      <th>META</th>\n",
       "      <th>MSFT</th>\n",
       "      <th>NFLX</th>\n",
       "      <th>NVDA</th>\n",
       "      <th>TSLA</th>\n",
       "      <th>^GSPC</th>\n",
       "    </tr>\n",
       "    <tr>\n",
       "      <th>Date</th>\n",
       "      <th></th>\n",
       "      <th></th>\n",
       "      <th></th>\n",
       "      <th></th>\n",
       "      <th></th>\n",
       "      <th></th>\n",
       "      <th></th>\n",
       "      <th></th>\n",
       "      <th></th>\n",
       "    </tr>\n",
       "  </thead>\n",
       "  <tbody>\n",
       "    <tr>\n",
       "      <th>2012-05-21</th>\n",
       "      <td>0.058260</td>\n",
       "      <td>0.019921</td>\n",
       "      <td>0.022835</td>\n",
       "      <td>-0.109861</td>\n",
       "      <td>0.016399</td>\n",
       "      <td>0.025443</td>\n",
       "      <td>0.017384</td>\n",
       "      <td>0.043904</td>\n",
       "      <td>0.016036</td>\n",
       "    </tr>\n",
       "    <tr>\n",
       "      <th>2012-05-22</th>\n",
       "      <td>-0.007679</td>\n",
       "      <td>-0.012746</td>\n",
       "      <td>-0.021674</td>\n",
       "      <td>-0.089039</td>\n",
       "      <td>0.000336</td>\n",
       "      <td>-0.056175</td>\n",
       "      <td>-0.012205</td>\n",
       "      <td>0.070559</td>\n",
       "      <td>0.000486</td>\n",
       "    </tr>\n",
       "    <tr>\n",
       "      <th>2012-05-23</th>\n",
       "      <td>0.024400</td>\n",
       "      <td>0.009056</td>\n",
       "      <td>0.014414</td>\n",
       "      <td>0.032258</td>\n",
       "      <td>-0.021841</td>\n",
       "      <td>0.062029</td>\n",
       "      <td>0.024712</td>\n",
       "      <td>0.007143</td>\n",
       "      <td>0.001694</td>\n",
       "    </tr>\n",
       "    <tr>\n",
       "      <th>2012-05-24</th>\n",
       "      <td>-0.009184</td>\n",
       "      <td>-0.009389</td>\n",
       "      <td>-0.009517</td>\n",
       "      <td>0.032187</td>\n",
       "      <td>-0.001374</td>\n",
       "      <td>-0.022806</td>\n",
       "      <td>-0.026527</td>\n",
       "      <td>-0.023855</td>\n",
       "      <td>0.001380</td>\n",
       "    </tr>\n",
       "    <tr>\n",
       "      <th>2012-05-25</th>\n",
       "      <td>-0.005360</td>\n",
       "      <td>-0.010918</td>\n",
       "      <td>-0.020094</td>\n",
       "      <td>-0.033908</td>\n",
       "      <td>-0.000344</td>\n",
       "      <td>-0.000711</td>\n",
       "      <td>0.023947</td>\n",
       "      <td>-0.015522</td>\n",
       "      <td>-0.002166</td>\n",
       "    </tr>\n",
       "    <tr>\n",
       "      <th>...</th>\n",
       "      <td>...</td>\n",
       "      <td>...</td>\n",
       "      <td>...</td>\n",
       "      <td>...</td>\n",
       "      <td>...</td>\n",
       "      <td>...</td>\n",
       "      <td>...</td>\n",
       "      <td>...</td>\n",
       "      <td>...</td>\n",
       "    </tr>\n",
       "    <tr>\n",
       "      <th>2025-04-02</th>\n",
       "      <td>0.003136</td>\n",
       "      <td>0.019982</td>\n",
       "      <td>-0.000126</td>\n",
       "      <td>-0.003532</td>\n",
       "      <td>-0.000131</td>\n",
       "      <td>0.007691</td>\n",
       "      <td>0.002451</td>\n",
       "      <td>0.053267</td>\n",
       "      <td>0.006728</td>\n",
       "    </tr>\n",
       "    <tr>\n",
       "      <th>2025-04-03</th>\n",
       "      <td>-0.092456</td>\n",
       "      <td>-0.089791</td>\n",
       "      <td>-0.039217</td>\n",
       "      <td>-0.089583</td>\n",
       "      <td>-0.023630</td>\n",
       "      <td>-0.019743</td>\n",
       "      <td>-0.078066</td>\n",
       "      <td>-0.054746</td>\n",
       "      <td>-0.048396</td>\n",
       "    </tr>\n",
       "    <tr>\n",
       "      <th>2025-04-04</th>\n",
       "      <td>-0.072887</td>\n",
       "      <td>-0.041534</td>\n",
       "      <td>-0.032038</td>\n",
       "      <td>-0.050581</td>\n",
       "      <td>-0.035566</td>\n",
       "      <td>-0.066725</td>\n",
       "      <td>-0.073576</td>\n",
       "      <td>-0.104198</td>\n",
       "      <td>-0.059750</td>\n",
       "    </tr>\n",
       "    <tr>\n",
       "      <th>2025-04-07</th>\n",
       "      <td>-0.036734</td>\n",
       "      <td>0.024912</td>\n",
       "      <td>0.010153</td>\n",
       "      <td>0.022824</td>\n",
       "      <td>-0.005502</td>\n",
       "      <td>0.013986</td>\n",
       "      <td>0.035309</td>\n",
       "      <td>-0.025644</td>\n",
       "      <td>-0.002331</td>\n",
       "    </tr>\n",
       "    <tr>\n",
       "      <th>2025-04-08</th>\n",
       "      <td>-0.049818</td>\n",
       "      <td>-0.026247</td>\n",
       "      <td>-0.017824</td>\n",
       "      <td>-0.011235</td>\n",
       "      <td>-0.009221</td>\n",
       "      <td>0.002961</td>\n",
       "      <td>-0.013724</td>\n",
       "      <td>-0.048995</td>\n",
       "      <td>-0.015701</td>\n",
       "    </tr>\n",
       "  </tbody>\n",
       "</table>\n",
       "<p>3240 rows × 9 columns</p>\n",
       "</div>"
      ],
      "text/plain": [
       "Ticker          AAPL      AMZN      GOOG      META      MSFT      NFLX  \\\n",
       "Date                                                                     \n",
       "2012-05-21  0.058260  0.019921  0.022835 -0.109861  0.016399  0.025443   \n",
       "2012-05-22 -0.007679 -0.012746 -0.021674 -0.089039  0.000336 -0.056175   \n",
       "2012-05-23  0.024400  0.009056  0.014414  0.032258 -0.021841  0.062029   \n",
       "2012-05-24 -0.009184 -0.009389 -0.009517  0.032187 -0.001374 -0.022806   \n",
       "2012-05-25 -0.005360 -0.010918 -0.020094 -0.033908 -0.000344 -0.000711   \n",
       "...              ...       ...       ...       ...       ...       ...   \n",
       "2025-04-02  0.003136  0.019982 -0.000126 -0.003532 -0.000131  0.007691   \n",
       "2025-04-03 -0.092456 -0.089791 -0.039217 -0.089583 -0.023630 -0.019743   \n",
       "2025-04-04 -0.072887 -0.041534 -0.032038 -0.050581 -0.035566 -0.066725   \n",
       "2025-04-07 -0.036734  0.024912  0.010153  0.022824 -0.005502  0.013986   \n",
       "2025-04-08 -0.049818 -0.026247 -0.017824 -0.011235 -0.009221  0.002961   \n",
       "\n",
       "Ticker          NVDA      TSLA     ^GSPC  \n",
       "Date                                      \n",
       "2012-05-21  0.017384  0.043904  0.016036  \n",
       "2012-05-22 -0.012205  0.070559  0.000486  \n",
       "2012-05-23  0.024712  0.007143  0.001694  \n",
       "2012-05-24 -0.026527 -0.023855  0.001380  \n",
       "2012-05-25  0.023947 -0.015522 -0.002166  \n",
       "...              ...       ...       ...  \n",
       "2025-04-02  0.002451  0.053267  0.006728  \n",
       "2025-04-03 -0.078066 -0.054746 -0.048396  \n",
       "2025-04-04 -0.073576 -0.104198 -0.059750  \n",
       "2025-04-07  0.035309 -0.025644 -0.002331  \n",
       "2025-04-08 -0.013724 -0.048995 -0.015701  \n",
       "\n",
       "[3240 rows x 9 columns]"
      ]
     },
     "execution_count": 15,
     "metadata": {},
     "output_type": "execute_result"
    }
   ],
   "source": [
    "portfolio_returns = data['Close'].pct_change().dropna()\n",
    "portfolio_returns"
   ]
  },
  {
   "cell_type": "markdown",
   "metadata": {
    "id": "DHluhrXYeYlj"
   },
   "source": [
    "## Preprocessing & Returns Calculation"
   ]
  },
  {
   "cell_type": "code",
   "execution_count": null,
   "metadata": {
    "id": "mwyrTpJ-dJCo"
   },
   "outputs": [],
   "source": [
    "def compute_returns(prices):\n",
    "  return np.log(prices / prices.shift(1)).dropna() # Log returns"
   ]
  },
  {
   "cell_type": "markdown",
   "metadata": {
    "id": "Us9OJ9Ngfkla"
   },
   "source": [
    "## Exploratory Analysis"
   ]
  },
  {
   "cell_type": "code",
   "execution_count": null,
   "metadata": {
    "id": "flJjcvMPfaHK"
   },
   "outputs": [],
   "source": [
    "# Plot Returns Distribution\n",
    "plt.figure(figsize=(10, 6))\n",
    "sns.histplot(returns_scaled.flatten(), kde=True)\n",
    "plt.title(\"Distribution of Z-Scored Returns\")\n",
    "plt.xlabel(\"Standard Deviations\")\n",
    "\n",
    "# Autocorrelation Plot (for volatility clustering)\n",
    "from statsmodels.graphics.tsaplots import plot_acf\n",
    "plot_acf(returns_scaled**2, lags=50)  # Squared returns ≈ volatility"
   ]
  },
  {
   "cell_type": "markdown",
   "metadata": {
    "id": "V5NwkGv155Xm"
   },
   "source": [
    "## Outlier Detection"
   ]
  },
  {
   "cell_type": "code",
   "execution_count": null,
   "metadata": {
    "id": "OZDGZxPgfwfa"
   },
   "outputs": [],
   "source": [
    "# traditional methods\n",
    "def detect_outliers_iqr(data, threshold=1.5):\n",
    "  q1 = np.percentile(data, 25)\n",
    "  q3 = np.percentile(data, 75)\n",
    "  iqr = q3 - q1\n",
    "  return (data < q1 - threshold*iqr) | (data > q3 + threshold*iqr)"
   ]
  },
  {
   "cell_type": "code",
   "execution_count": null,
   "metadata": {
    "id": "R2spi93NIMrT"
   },
   "outputs": [],
   "source": [
    "outliers_traditional = detect_outliers_iqr(returns_scaled)"
   ]
  },
  {
   "cell_type": "code",
   "execution_count": null,
   "metadata": {
    "id": "6E-1t7408YKt"
   },
   "outputs": [],
   "source": [
    "# ML-based (Isolation Forest)\n",
    "iso_forest = IsolationForest(contamination=0.05, random_state=42)\n",
    "outliers = iso_forest.fit_predict(returns_scaled)"
   ]
  },
  {
   "cell_type": "code",
   "execution_count": null,
   "metadata": {
    "id": "ZlbUX2yF8gLe"
   },
   "outputs": [],
   "source": [
    "# Comparing results\n",
    "print(f\"Traditional IQR outliers: {np.sum(outliers_traditional)}\")\n",
    "print(f\"Isolation Forest outliers: {np.sum(outliers == -1)}\")"
   ]
  },
  {
   "cell_type": "markdown",
   "metadata": {
    "id": "TMFj81UYJHwi"
   },
   "source": [
    "## Uncovering Latent Structures: PCA vs Nonlinear PCA (Autoencoder)"
   ]
  },
  {
   "cell_type": "markdown",
   "metadata": {
    "id": "l4h1XT91tKp-"
   },
   "source": [
    "### Traditional PCA"
   ]
  },
  {
   "cell_type": "code",
   "execution_count": 115,
   "metadata": {
    "id": "6QmyCHw4IVSm"
   },
   "outputs": [],
   "source": [
    "# Traditional PCA Analysis\n",
    "X_scaled = StandardScaler().fit_transform(portfolio_returns)\n",
    "\n",
    "# Fit PCA\n",
    "pca = PCA(n_components=3)\n",
    "pca_factors = pca.fit_transform(X_scaled)\n",
    "pca_returns_df = pd.DataFrame(pca_factors, index=portfolio_returns.index, columns=[\"f1\", \"f2\", \"f3\"])"
   ]
  },
  {
   "cell_type": "code",
   "execution_count": 117,
   "metadata": {},
   "outputs": [],
   "source": [
    "pca_exposures_df = pd.DataFrame(index=portfolio_returns.columns, columns=[\"f1\", \"f2\", \"f3\"]).astype(float)\n",
    "\n",
    "for asset in portfolio_returns.columns:\n",
    "    lr = LinearRegression()\n",
    "    lr.fit(pca_returns_df, portfolio_returns[asset].values)\n",
    "    pca_exposures_df.loc[asset] = lr.coef_"
   ]
  },
  {
   "cell_type": "code",
   "execution_count": 119,
   "metadata": {
    "id": "qEGm99mPjDj3"
   },
   "outputs": [],
   "source": [
    "# returns a vector of explained variance by each component\n",
    "pct = pca.explained_variance_ratio_\n",
    "\n",
    "# get the influence each component has on the features\n",
    "pca_components = pca.components_"
   ]
  },
  {
   "cell_type": "code",
   "execution_count": 121,
   "metadata": {
    "id": "l3p286pviy-s"
   },
   "outputs": [
    {
     "data": {
      "text/plain": [
       "(0.0, 100.0)"
      ]
     },
     "execution_count": 121,
     "metadata": {},
     "output_type": "execute_result"
    },
    {
     "data": {
      "image/png": "[encoded data removed]",
      "text/plain": [
       "<Figure size 640x480 with 2 Axes>"
      ]
     },
     "metadata": {},
     "output_type": "display_data"
    }
   ],
   "source": [
    "# plotting\n",
    "cum_pct = np.cumsum(pct)\n",
    "x = np.arange(1, len(pct)+1, 1)\n",
    "\n",
    "plt.subplot(1, 2, 1)\n",
    "plt.bar(x, pct * 100, align=\"center\")\n",
    "plt.title(\"Contribution (%)\")\n",
    "plt.xlabel('Component')\n",
    "plt.xticks(x)\n",
    "plt.xlim([0, 4])\n",
    "plt.ylim([0, 100])\n",
    "\n",
    "plt.subplot(1, 2, 2)\n",
    "plt.plot(x, cum_pct * 100, 'ro-')\n",
    "plt.title('Cumulative contribution (%)')\n",
    "plt.xlabel('Component')\n",
    "plt.xticks(x)\n",
    "plt.xlim([0, 4])\n",
    "plt.ylim([0, 100])"
   ]
  },
  {
   "cell_type": "code",
   "execution_count": 123,
   "metadata": {
    "id": "ZVAAVtbSjaT-"
   },
   "outputs": [
    {
     "data": {
      "text/html": [
       "<div>\n",
       "<style scoped>\n",
       "    .dataframe tbody tr th:only-of-type {\n",
       "        vertical-align: middle;\n",
       "    }\n",
       "\n",
       "    .dataframe tbody tr th {\n",
       "        vertical-align: top;\n",
       "    }\n",
       "\n",
       "    .dataframe thead th {\n",
       "        text-align: right;\n",
       "    }\n",
       "</style>\n",
       "<table border=\"1\" class=\"dataframe\">\n",
       "  <thead>\n",
       "    <tr style=\"text-align: right;\">\n",
       "      <th></th>\n",
       "      <th>f1</th>\n",
       "      <th>f2</th>\n",
       "      <th>f3</th>\n",
       "    </tr>\n",
       "    <tr>\n",
       "      <th>Date</th>\n",
       "      <th></th>\n",
       "      <th></th>\n",
       "      <th></th>\n",
       "    </tr>\n",
       "  </thead>\n",
       "  <tbody>\n",
       "    <tr>\n",
       "      <th>2012-05-21</th>\n",
       "      <td>0.037259</td>\n",
       "      <td>0.021109</td>\n",
       "      <td>0.073760</td>\n",
       "    </tr>\n",
       "    <tr>\n",
       "      <th>2012-05-22</th>\n",
       "      <td>-0.042788</td>\n",
       "      <td>0.007197</td>\n",
       "      <td>0.110688</td>\n",
       "    </tr>\n",
       "    <tr>\n",
       "      <th>2012-05-23</th>\n",
       "      <td>0.045013</td>\n",
       "      <td>0.041039</td>\n",
       "      <td>-0.028258</td>\n",
       "    </tr>\n",
       "    <tr>\n",
       "      <th>2012-05-24</th>\n",
       "      <td>-0.020599</td>\n",
       "      <td>-0.025821</td>\n",
       "      <td>-0.022397</td>\n",
       "    </tr>\n",
       "    <tr>\n",
       "      <th>2012-05-25</th>\n",
       "      <td>-0.020513</td>\n",
       "      <td>-0.004100</td>\n",
       "      <td>0.009919</td>\n",
       "    </tr>\n",
       "  </tbody>\n",
       "</table>\n",
       "</div>"
      ],
      "text/plain": [
       "                  f1        f2        f3\n",
       "Date                                    \n",
       "2012-05-21  0.037259  0.021109  0.073760\n",
       "2012-05-22 -0.042788  0.007197  0.110688\n",
       "2012-05-23  0.045013  0.041039 -0.028258\n",
       "2012-05-24 -0.020599 -0.025821 -0.022397\n",
       "2012-05-25 -0.020513 -0.004100  0.009919"
      ]
     },
     "execution_count": 123,
     "metadata": {},
     "output_type": "execute_result"
    }
   ],
   "source": [
    "# multiply returns by components and transpose the dataframe\n",
    "X = np.asarray(portfolio_returns)\n",
    "\n",
    "factor_returns = X.dot(pca_components.T)\n",
    "\n",
    "# recall that we set n_components=3 earlier to denote how many principal components we want\n",
    "factor_returns = pd.DataFrame(\n",
    "    columns=[\"f1\", \"f2\", \"f3\"],\n",
    "    index=portfolio_returns.index,\n",
    "    data=factor_returns\n",
    ")\n",
    "\n",
    "factor_returns.head()"
   ]
  },
  {
   "cell_type": "code",
   "execution_count": 125,
   "metadata": {
    "id": "o0P5Em9mm16L"
   },
   "outputs": [
    {
     "data": {
      "text/html": [
       "<div>\n",
       "<style scoped>\n",
       "    .dataframe tbody tr th:only-of-type {\n",
       "        vertical-align: middle;\n",
       "    }\n",
       "\n",
       "    .dataframe tbody tr th {\n",
       "        vertical-align: top;\n",
       "    }\n",
       "\n",
       "    .dataframe thead th {\n",
       "        text-align: right;\n",
       "    }\n",
       "</style>\n",
       "<table border=\"1\" class=\"dataframe\">\n",
       "  <thead>\n",
       "    <tr style=\"text-align: right;\">\n",
       "      <th></th>\n",
       "      <th>f1</th>\n",
       "      <th>f2</th>\n",
       "      <th>f3</th>\n",
       "    </tr>\n",
       "    <tr>\n",
       "      <th>Ticker</th>\n",
       "      <th></th>\n",
       "      <th></th>\n",
       "      <th></th>\n",
       "    </tr>\n",
       "  </thead>\n",
       "  <tbody>\n",
       "    <tr>\n",
       "      <th>AAPL</th>\n",
       "      <td>0.337174</td>\n",
       "      <td>-0.293531</td>\n",
       "      <td>0.238702</td>\n",
       "    </tr>\n",
       "    <tr>\n",
       "      <th>AMZN</th>\n",
       "      <td>0.350074</td>\n",
       "      <td>0.088675</td>\n",
       "      <td>-0.230966</td>\n",
       "    </tr>\n",
       "    <tr>\n",
       "      <th>GOOG</th>\n",
       "      <td>0.365871</td>\n",
       "      <td>-0.151637</td>\n",
       "      <td>-0.150599</td>\n",
       "    </tr>\n",
       "    <tr>\n",
       "      <th>META</th>\n",
       "      <td>0.305157</td>\n",
       "      <td>-0.055937</td>\n",
       "      <td>-0.385612</td>\n",
       "    </tr>\n",
       "    <tr>\n",
       "      <th>MSFT</th>\n",
       "      <td>0.374146</td>\n",
       "      <td>-0.230522</td>\n",
       "      <td>0.024813</td>\n",
       "    </tr>\n",
       "    <tr>\n",
       "      <th>NFLX</th>\n",
       "      <td>0.259366</td>\n",
       "      <td>0.714241</td>\n",
       "      <td>-0.416616</td>\n",
       "    </tr>\n",
       "    <tr>\n",
       "      <th>NVDA</th>\n",
       "      <td>0.328662</td>\n",
       "      <td>-0.057863</td>\n",
       "      <td>0.150482</td>\n",
       "    </tr>\n",
       "    <tr>\n",
       "      <th>TSLA</th>\n",
       "      <td>0.249799</td>\n",
       "      <td>0.529870</td>\n",
       "      <td>0.713573</td>\n",
       "    </tr>\n",
       "    <tr>\n",
       "      <th>^GSPC</th>\n",
       "      <td>0.398879</td>\n",
       "      <td>-0.180173</td>\n",
       "      <td>0.110829</td>\n",
       "    </tr>\n",
       "  </tbody>\n",
       "</table>\n",
       "</div>"
      ],
      "text/plain": [
       "              f1        f2        f3\n",
       "Ticker                              \n",
       "AAPL    0.337174 -0.293531  0.238702\n",
       "AMZN    0.350074  0.088675 -0.230966\n",
       "GOOG    0.365871 -0.151637 -0.150599\n",
       "META    0.305157 -0.055937 -0.385612\n",
       "MSFT    0.374146 -0.230522  0.024813\n",
       "NFLX    0.259366  0.714241 -0.416616\n",
       "NVDA    0.328662 -0.057863  0.150482\n",
       "TSLA    0.249799  0.529870  0.713573\n",
       "^GSPC   0.398879 -0.180173  0.110829"
      ]
     },
     "execution_count": 125,
     "metadata": {},
     "output_type": "execute_result"
    }
   ],
   "source": [
    "# plot the portfolio returns influenced by the first factor\n",
    "factor_exposures = pd.DataFrame(\n",
    "    index=[\"f1\", \"f2\", \"f3\"],\n",
    "    columns=portfolio_returns.columns,\n",
    "    data = pca_components\n",
    ").T\n",
    "\n",
    "factor_exposures"
   ]
  },
  {
   "cell_type": "code",
   "execution_count": 127,
   "metadata": {
    "id": "c7YfjFsvmyJL"
   },
   "outputs": [
    {
     "data": {
      "text/plain": [
       "Text(0.5, 1.0, 'Asset Loadings on Principal Component 1')"
      ]
     },
     "execution_count": 127,
     "metadata": {},
     "output_type": "execute_result"
    },
    {
     "data": {
      "image/png": "[encoded data removed]",
      "text/plain": [
       "<Figure size 640x480 with 1 Axes>"
      ]
     },
     "metadata": {},
     "output_type": "display_data"
    }
   ],
   "source": [
    "factor_exposures.f1.sort_values().plot.bar()\n",
    "plt.ylabel(\"Exposure to f1\")\n",
    "plt.title(\"Asset Loadings on Principal Component 1\")"
   ]
  },
  {
   "cell_type": "markdown",
   "metadata": {
    "id": "o2nS28u-ng0Z"
   },
   "source": [
    "The bar chart plots the loadings (or exposures) of the first principal component (f1) across all the assets in the portfolio (including ^GSPC, AAPL, MSFT, etc.).\n",
    "\n",
    "These values represent how much each asset contributes to the first principal component, which typically captures the largest source of variance in the dataset.\n",
    "\n",
    "Analysis:\n",
    "* TSLA, NVDA, and NFLX have high positive exposures to the first principal component, suggesting they are strongly aligned with the main factor driving portfolio variance.\n",
    "\n",
    "* ^GSPC (S&P 500) has the lowest exposure, meaning its behavior is less influenced by this main factor compared to the others.\n",
    "\n",
    "* This makes sense—^GSPC is a broad market index, often more diversified and stable.\n",
    "\n",
    "* Stocks like AAPL, MSFT, GOOG are in the middle — they move with the first factor, but not as strongly as TSLA or NVDA.\n",
    "\n",
    "* Given that tech/growth stocks (like TSLA, NVDA) dominate the top end, `f1` could be interpreted as a “growth/tech risk factor”."
   ]
  },
  {
   "cell_type": "code",
   "execution_count": 130,
   "metadata": {
    "id": "_Ai9gURqrlwq"
   },
   "outputs": [
    {
     "data": {
      "text/plain": [
       "Text(0.5, 1.0, 'Asset Loadings on Principal Component 2')"
      ]
     },
     "execution_count": 130,
     "metadata": {},
     "output_type": "execute_result"
    },
    {
     "data": {
      "image/png": "[encoded data removed]",
      "text/plain": [
       "<Figure size 640x480 with 1 Axes>"
      ]
     },
     "metadata": {},
     "output_type": "display_data"
    }
   ],
   "source": [
    "factor_exposures.f2.sort_values().plot.bar()\n",
    "plt.ylabel(\"Exposure to f2\")\n",
    "plt.title(\"Asset Loadings on Principal Component 2\")"
   ]
  },
  {
   "cell_type": "markdown",
   "metadata": {
    "id": "F25grB1CsM2T"
   },
   "source": [
    "TSLA loads heavily positive on f2, and several other tech stocks like NFLX, META, NVDA load negatively, while the rest (including the index) are near neutral.\n",
    "\n",
    "`f2` might capture a unique risk or return profile specific to TSLA, such as:\n",
    "* Idiosyncratic volatility or momentum (TSLA often behaves very differently from even other tech stocks) - most likely due to recent political events\n",
    "* A \"speculative growth\" factor (TSLA being the face of that in recent years)"
   ]
  },
  {
   "cell_type": "code",
   "execution_count": 133,
   "metadata": {
    "id": "39i6Pgvpscfc"
   },
   "outputs": [
    {
     "data": {
      "text/plain": [
       "Text(0.5, 1.0, 'Asset Loadings on Principal Component 3')"
      ]
     },
     "execution_count": 133,
     "metadata": {},
     "output_type": "execute_result"
    },
    {
     "data": {
      "image/png": "[encoded data removed]",
      "text/plain": [
       "<Figure size 640x480 with 1 Axes>"
      ]
     },
     "metadata": {},
     "output_type": "display_data"
    }
   ],
   "source": [
    "factor_exposures.f3.sort_values().plot.bar()\n",
    "plt.ylabel(\"Exposure to f3\")\n",
    "plt.title(\"Asset Loadings on Principal Component 3\")"
   ]
  },
  {
   "cell_type": "markdown",
   "metadata": {
    "id": "7kT5S5Qlslin"
   },
   "source": [
    "From the plot:\n",
    "* NFLX has a very strong positive exposure to f3 (~0.85+)\n",
    "* NVDA has a strong negative exposure (~-0.4)\n",
    "* META, AAPL, MSFT, GOOG, etc. have mild to moderate negative exposures\n",
    "* TSLA and AMZN are slightly positive\n",
    "\n",
    "This kind of distribution suggests that f3 might represent a volatility or risk sentiment factor — for example:\n",
    "* High positive exposure (NFLX): Might reflect a unique return pattern or idiosyncratic risk (e.g., high beta, high growth, high volatility).\n",
    "* High negative exposure (NVDA, META): Suggests an opposite movement — perhaps NVDA's price movements diverge from those of NFLX in this principal component's dimension.\n",
    "* Other large-cap stocks are close to neutral or slightly negative.\n",
    "\n"
   ]
  },
  {
   "cell_type": "markdown",
   "metadata": {
    "id": "V6u7b3bitNzl"
   },
   "source": [
    "### Autoencoder"
   ]
  },
  {
   "cell_type": "markdown",
   "metadata": {},
   "source": [
    "We will define our model in the following ways:\n",
    "* Architecture: Encoder: input -> 64 neurons -> latent; Decoder: latent -> 64 neurons -> input\n",
    "* Objective: MSE loss during training\n",
    "* Latent Representation: `latent = self.encoder(x)` -> 3D representation\n",
    "* Optimization: Adam optimizer used in training loop"
   ]
  },
  {
   "cell_type": "code",
   "execution_count": 174,
   "metadata": {
    "id": "GpGV-LCLN9mi"
   },
   "outputs": [],
   "source": [
    "# Defining Autoencoder (PyTorch)\n",
    "class Autoencoder(nn.Module):\n",
    "  def __init__(self, input_dim, latent_dim):\n",
    "    super().__init__()\n",
    "    self.encoder = nn.Sequential(\n",
    "        nn.Linear(input_dim, 128),\n",
    "        nn.ReLU(),\n",
    "        nn.Linear(128, latent_dim)\n",
    "    )\n",
    "    self.decoder = nn.Sequential(\n",
    "        nn.Linear(latent_dim, 128),\n",
    "        nn.ReLU(),\n",
    "        nn.Linear(128, input_dim)\n",
    "    )\n",
    "\n",
    "  def forward(self, x):\n",
    "    latent = self.encoder(x)\n",
    "    reconstructed = self.decoder(latent)\n",
    "    return reconstructed, latent"
   ]
  },
  {
   "cell_type": "code",
   "execution_count": 176,
   "metadata": {
    "id": "nZLk8FOPukbY"
   },
   "outputs": [],
   "source": [
    "# Standardize the returns data\n",
    "scaler = StandardScaler()\n",
    "X_scaled = scaler.fit_transform(portfolio_returns)\n",
    "X_tensor = torch.tensor(X_scaled, dtype=torch.float32)"
   ]
  },
  {
   "cell_type": "code",
   "execution_count": 178,
   "metadata": {
    "id": "NClRqeEQudjA"
   },
   "outputs": [],
   "source": [
    "input_dim = X_tensor.shape[1]  # e.g., 10 stocks\n",
    "latent_dim = 3                 # same as n_components in PCA\n",
    "\n",
    "model = Autoencoder(input_dim, latent_dim)"
   ]
  },
  {
   "cell_type": "code",
   "execution_count": 180,
   "metadata": {
    "id": "s96d9eT_P2eT"
   },
   "outputs": [
    {
     "name": "stdout",
     "output_type": "stream",
     "text": [
      "Epoch 0, Loss: 1.0113\n",
      "Epoch 100, Loss: 0.2398\n",
      "Epoch 200, Loss: 0.2146\n",
      "Epoch 300, Loss: 0.2006\n",
      "Epoch 400, Loss: 0.1927\n",
      "Epoch 500, Loss: 0.1885\n",
      "Epoch 600, Loss: 0.1811\n",
      "Epoch 700, Loss: 0.1794\n",
      "Epoch 800, Loss: 0.1748\n",
      "Epoch 900, Loss: 0.1721\n"
     ]
    }
   ],
   "source": [
    "# training\n",
    "optimizer = optim.Adam(model.parameters(), lr=0.01)\n",
    "loss_fn = nn.MSELoss()\n",
    "\n",
    "for epoch in range(1000):\n",
    "    model.train()\n",
    "    optimizer.zero_grad()\n",
    "    recon, z = model(X_tensor)\n",
    "    loss = loss_fn(recon, X_tensor)\n",
    "    loss.backward()\n",
    "    optimizer.step()\n",
    "    if epoch % 100 == 0:\n",
    "        print(f\"Epoch {epoch}, Loss: {loss.item():.4f}\")"
   ]
  },
  {
   "cell_type": "code",
   "execution_count": 182,
   "metadata": {
    "id": "TYm3aCS1SYJT"
   },
   "outputs": [
    {
     "data": {
      "text/html": [
       "<div>\n",
       "<style scoped>\n",
       "    .dataframe tbody tr th:only-of-type {\n",
       "        vertical-align: middle;\n",
       "    }\n",
       "\n",
       "    .dataframe tbody tr th {\n",
       "        vertical-align: top;\n",
       "    }\n",
       "\n",
       "    .dataframe thead th {\n",
       "        text-align: right;\n",
       "    }\n",
       "</style>\n",
       "<table border=\"1\" class=\"dataframe\">\n",
       "  <thead>\n",
       "    <tr style=\"text-align: right;\">\n",
       "      <th></th>\n",
       "      <th>f1</th>\n",
       "      <th>f2</th>\n",
       "      <th>f3</th>\n",
       "    </tr>\n",
       "    <tr>\n",
       "      <th>Ticker</th>\n",
       "      <th></th>\n",
       "      <th></th>\n",
       "      <th></th>\n",
       "    </tr>\n",
       "  </thead>\n",
       "  <tbody>\n",
       "    <tr>\n",
       "      <th>AAPL</th>\n",
       "      <td>-0.001941</td>\n",
       "      <td>0.005523</td>\n",
       "      <td>-0.003764</td>\n",
       "    </tr>\n",
       "    <tr>\n",
       "      <th>AMZN</th>\n",
       "      <td>-0.000710</td>\n",
       "      <td>0.008358</td>\n",
       "      <td>-0.001030</td>\n",
       "    </tr>\n",
       "    <tr>\n",
       "      <th>GOOG</th>\n",
       "      <td>-0.001728</td>\n",
       "      <td>0.006995</td>\n",
       "      <td>-0.001646</td>\n",
       "    </tr>\n",
       "    <tr>\n",
       "      <th>META</th>\n",
       "      <td>-0.002658</td>\n",
       "      <td>0.010458</td>\n",
       "      <td>0.002308</td>\n",
       "    </tr>\n",
       "    <tr>\n",
       "      <th>MSFT</th>\n",
       "      <td>-0.001826</td>\n",
       "      <td>0.006332</td>\n",
       "      <td>-0.002742</td>\n",
       "    </tr>\n",
       "    <tr>\n",
       "      <th>NFLX</th>\n",
       "      <td>0.006633</td>\n",
       "      <td>0.010168</td>\n",
       "      <td>0.001381</td>\n",
       "    </tr>\n",
       "    <tr>\n",
       "      <th>NVDA</th>\n",
       "      <td>-0.001561</td>\n",
       "      <td>0.008404</td>\n",
       "      <td>-0.006184</td>\n",
       "    </tr>\n",
       "    <tr>\n",
       "      <th>TSLA</th>\n",
       "      <td>0.009942</td>\n",
       "      <td>0.006999</td>\n",
       "      <td>-0.006231</td>\n",
       "    </tr>\n",
       "    <tr>\n",
       "      <th>^GSPC</th>\n",
       "      <td>-0.000868</td>\n",
       "      <td>0.004239</td>\n",
       "      <td>-0.001893</td>\n",
       "    </tr>\n",
       "  </tbody>\n",
       "</table>\n",
       "</div>"
      ],
      "text/plain": [
       "              f1        f2        f3\n",
       "Ticker                              \n",
       "AAPL   -0.001941  0.005523 -0.003764\n",
       "AMZN   -0.000710  0.008358 -0.001030\n",
       "GOOG   -0.001728  0.006995 -0.001646\n",
       "META   -0.002658  0.010458  0.002308\n",
       "MSFT   -0.001826  0.006332 -0.002742\n",
       "NFLX    0.006633  0.010168  0.001381\n",
       "NVDA   -0.001561  0.008404 -0.006184\n",
       "TSLA    0.009942  0.006999 -0.006231\n",
       "^GSPC  -0.000868  0.004239 -0.001893"
      ]
     },
     "execution_count": 182,
     "metadata": {},
     "output_type": "execute_result"
    }
   ],
   "source": [
    "# Extract latent features\n",
    "with torch.no_grad():\n",
    "    _, factor_returns = model(X_tensor)\n",
    "\n",
    "factor_returns_df = pd.DataFrame(\n",
    "    factor_returns.numpy(),\n",
    "    index=portfolio_returns.index,\n",
    "    columns=[\"f1\", \"f2\", \"f3\"]\n",
    ")\n",
    "\n",
    "factor_exposures_df = factor_exposures_df = pd.DataFrame(index=portfolio_returns.columns, columns=[\"f1\", \"f2\", \"f3\"]).astype(float)\n",
    "\n",
    "for asset in portfolio_returns.columns:\n",
    "    lr = LinearRegression()\n",
    "    lr.fit(factor_returns_df, portfolio_returns[asset].values)\n",
    "    factor_exposures_df.loc[asset] = lr.coef_\n",
    "\n",
    "factor_exposures_df"
   ]
  },
  {
   "cell_type": "code",
   "execution_count": 184,
   "metadata": {
    "id": "TYm3aCS1SYJT"
   },
   "outputs": [
    {
     "data": {
      "image/png": "[encoded data removed]",
      "text/plain": [
       "<Figure size 640x480 with 1 Axes>"
      ]
     },
     "metadata": {},
     "output_type": "display_data"
    }
   ],
   "source": [
    "factor_exposures_df[\"f1\"].sort_values().plot(kind='bar')\n",
    "plt.ylabel(\"Exposure to f1\")\n",
    "plt.title(\"Autoencoder: Asset Loadings on Factor 1\")\n",
    "plt.show()"
   ]
  },
  {
   "cell_type": "code",
   "execution_count": 186,
   "metadata": {},
   "outputs": [
    {
     "data": {
      "image/png": "[encoded data removed]",
      "text/plain": [
       "<Figure size 640x480 with 1 Axes>"
      ]
     },
     "metadata": {},
     "output_type": "display_data"
    }
   ],
   "source": [
    "factor_exposures_df[\"f2\"].sort_values().plot(kind='bar')\n",
    "plt.ylabel(\"Exposure to f2\")\n",
    "plt.title(\"Autoencoder: Asset Loadings on Factor 2\")\n",
    "plt.show()"
   ]
  },
  {
   "cell_type": "code",
   "execution_count": 188,
   "metadata": {},
   "outputs": [
    {
     "data": {
      "image/png": "[encoded data removed]",
      "text/plain": [
       "<Figure size 640x480 with 1 Axes>"
      ]
     },
     "metadata": {},
     "output_type": "display_data"
    }
   ],
   "source": [
    "factor_exposures_df[\"f3\"].sort_values().plot(kind='bar')\n",
    "plt.ylabel(\"Exposure to f3\")\n",
    "plt.title(\"Autoencoder: Asset Loadings on Factor 3\")\n",
    "plt.show()"
   ]
  },
  {
   "cell_type": "markdown",
   "metadata": {},
   "source": [
    "### Comparing Metrics"
   ]
  },
  {
   "cell_type": "code",
   "execution_count": 191,
   "metadata": {},
   "outputs": [],
   "source": [
    "results = []\n",
    "\n",
    "for asset in portfolio_returns.columns:\n",
    "    y_true = portfolio_returns[asset].values\n",
    "\n",
    "    # Autoencoder prediction\n",
    "    y_pred_ae = factor_returns_df.values @ factor_exposures_df.loc[asset].values\n",
    "    r2_ae = r2_score(y_true, y_pred_ae)\n",
    "    mse_ae = mean_squared_error(y_true, y_pred_ae)\n",
    "\n",
    "    # PCA prediction\n",
    "    y_pred_pca = pca_returns_df.values @ pca_exposures_df.loc[asset].values\n",
    "    r2_pca = r2_score(y_true, y_pred_pca)\n",
    "    mse_pca = mean_squared_error(y_true, y_pred_pca)\n",
    "\n",
    "    results.append({\n",
    "        \"Ticker\": asset,\n",
    "        \"R2_Autoencoder\": r2_ae,\n",
    "        \"R2_PCA\": r2_pca,\n",
    "        \"MSE_Autoencoder\": mse_ae,\n",
    "        \"MSE_PCA\": mse_pca\n",
    "    })\n",
    "\n",
    "comparison_df = pd.DataFrame(results).set_index(\"Ticker\")"
   ]
  },
  {
   "cell_type": "code",
   "execution_count": 193,
   "metadata": {},
   "outputs": [
    {
     "name": "stdout",
     "output_type": "stream",
     "text": [
      "        R2_Autoencoder    R2_PCA  MSE_Autoencoder   MSE_PCA\n",
      "Ticker                                                     \n",
      "^GSPC         0.769977  0.821605         0.000026  0.000020\n",
      "MSFT          0.717771  0.732597         0.000076  0.000072\n",
      "GOOG          0.669634  0.696448         0.000098  0.000090\n",
      "AMZN          0.631921  0.651523         0.000150  0.000142\n",
      "META          0.609473  0.575037         0.000246  0.000267\n",
      "AAPL          0.608653  0.671815         0.000124  0.000104\n",
      "NVDA          0.564170  0.549395         0.000357  0.000369\n",
      "NFLX          0.560490  0.860686         0.000384  0.000122\n",
      "TSLA          0.508774  0.912101         0.000644  0.000115\n"
     ]
    }
   ],
   "source": [
    "print(comparison_df.sort_values(\"R2_Autoencoder\", ascending=False))"
   ]
  },
  {
   "cell_type": "code",
   "execution_count": 195,
   "metadata": {},
   "outputs": [
    {
     "data": {
      "image/png": "[encoded data removed]",
      "text/plain": [
       "<Figure size 1000x600 with 1 Axes>"
      ]
     },
     "metadata": {},
     "output_type": "display_data"
    }
   ],
   "source": [
    "comparison_df[[\"R2_Autoencoder\", \"R2_PCA\"]].plot(kind='barh', figsize=(10,6))\n",
    "plt.title(\"R² Comparison: Autoencoder vs PCA\")\n",
    "plt.xlabel(\"R²\")\n",
    "plt.show()"
   ]
  },
  {
   "cell_type": "markdown",
   "metadata": {},
   "source": [
    "Analysis:\n",
    "* PCA consistently has higher R² for all assets — meaning it explains more variance in the returns.\n",
    "* Even for nonlinear-looking assets like TSLA or NVDA, PCA still edges out the Autoencoder.\n",
    "* For assets like ^GSPC, TSLA, and NFLX, PCA does significantly better.\n",
    "\n",
    "\n",
    "In this specific setup, PCA outperforms the autoencoder in explaining asset return variance.\n",
    "\n",
    "This might mean:\n",
    "* Returns are fairly linear, and PCA is sufficient\n",
    "* Autoencoder is underfitting (can be improved by deeper architecture, more training, or tuning)\n",
    "* The autoencoder’s latent space isn't well-aligned with the factors driving return variance (which is okay — it's nonlinear!)"
   ]
  },
  {
   "cell_type": "code",
   "execution_count": 198,
   "metadata": {},
   "outputs": [
    {
     "data": {
      "image/png": "[encoded data removed]",
      "text/plain": [
       "<Figure size 1000x600 with 1 Axes>"
      ]
     },
     "metadata": {},
     "output_type": "display_data"
    }
   ],
   "source": [
    "comparison_df[[\"MSE_Autoencoder\", \"MSE_PCA\"]].plot(\n",
    "    kind='barh', figsize=(10, 6), title=\"MSE Comparison: Autoencoder vs PCA\"\n",
    ")\n",
    "plt.xlabel(\"Mean Squared Error\")\n",
    "plt.show()"
   ]
  },
  {
   "cell_type": "markdown",
   "metadata": {},
   "source": [
    "Analysis:\n",
    "* For every asset, PCA (orange) has a lower or equal MSE compared to Autoencoder (blue).\n",
    "* This matches with the R² plot since Lower MSE ⟺ Higher R²\n",
    "* TSLA, NVDA, NFLX: Autoencoder struggles most here — much higher MSE than PCA\n",
    "* ^GSPC, GOOG, MSFT: Autoencoder performs relatively closer to PCA\n",
    "* META, AAPL, AMZN: PCA still consistently does better, but the gap is smaller"
   ]
  },
  {
   "cell_type": "markdown",
   "metadata": {
    "id": "BhWg9ailUGBb"
   },
   "source": [
    "## Clustering on Latent Features"
   ]
  },
  {
   "cell_type": "code",
   "execution_count": null,
   "metadata": {
    "id": "JvTaGNB8TTPK"
   },
   "outputs": [],
   "source": []
  }
 ],
 "metadata": {
  "colab": {
   "provenance": []
  },
  "kernelspec": {
   "display_name": "Python [conda env:base] *",
   "language": "python",
   "name": "conda-base-py"
  },
  "language_info": {
   "codemirror_mode": {
    "name": "ipython",
    "version": 3
   },
   "file_extension": ".py",
   "mimetype": "text/x-python",
   "name": "python",
   "nbconvert_exporter": "python",
   "pygments_lexer": "ipython3",
   "version": "3.12.7"
  }
 },
 "nbformat": 4,
 "nbformat_minor": 4
}
